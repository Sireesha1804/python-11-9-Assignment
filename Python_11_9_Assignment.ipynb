{
  "nbformat": 4,
  "nbformat_minor": 0,
  "metadata": {
    "colab": {
      "provenance": []
    },
    "kernelspec": {
      "name": "python3",
      "display_name": "Python 3"
    },
    "language_info": {
      "name": "python"
    }
  },
  "cells": [
    {
      "cell_type": "markdown",
      "source": [
        "1.Write a python program to print your name diagonally within the star pattern"
      ],
      "metadata": {
        "id": "h9rUWwLGrRla"
      }
    },
    {
      "cell_type": "code",
      "execution_count": 1,
      "metadata": {
        "colab": {
          "base_uri": "https://localhost:8080/"
        },
        "id": "Axej9gKerITp",
        "outputId": "2f170ad8-00ed-4a71-98cb-de6a20cf28b3"
      },
      "outputs": [
        {
          "output_type": "stream",
          "name": "stdout",
          "text": [
            "s123\n",
            "0i23\n",
            "01r3\n",
            "012i\n"
          ]
        }
      ],
      "source": [
        "word='siri'\n",
        "\n",
        "for i in range(len(word)):\n",
        "   for j in range(len(word)):\n",
        "     if i==j:\n",
        "        print(word[i],end=\"\")\n",
        "     else:\n",
        "        print(j,end=\"\")\n",
        "\n",
        "   print()"
      ]
    }
  ]
}